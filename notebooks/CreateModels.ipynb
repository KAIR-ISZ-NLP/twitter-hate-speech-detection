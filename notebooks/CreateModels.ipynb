{
 "cells": [
  {
   "cell_type": "code",
   "execution_count": 59,
   "metadata": {},
   "outputs": [],
   "source": [
    "# Core imports\n",
    "import pandas as pd\n",
    "import morfeusz2\n",
    "import re\n",
    "import string\n",
    "import matplotlib.pyplot as plt\n",
    "\n",
    "from nltk.corpus import stopwords\n",
    "from joblib import dump\n"
   ]
  },
  {
   "cell_type": "code",
   "execution_count": 60,
   "metadata": {},
   "outputs": [],
   "source": [
    "morf = morfeusz2.Morfeusz()\n",
    "\n",
    "def LowerCase(text: str) -> str:\n",
    "    \"\"\"Converts letters in given text to lowercase.\n",
    "    Args:\n",
    "        text (str): Text to preprocess.\n",
    "    Returns:\n",
    "        preprocessedText (str): Lowercase text.\n",
    "\n",
    "    \"\"\"\n",
    "    preprocessedText = str.lower(text)\n",
    "    return  preprocessedText\n",
    "\n",
    "def RemoveHashtags(text: str) -> str:\n",
    "    \"\"\"Removes hashtags from given tweet text.\n",
    "    Args:\n",
    "        text (str): Text to preprocess.\n",
    "    Returns:\n",
    "        preprocessedText (str): Text with no hashtags.\n",
    "\n",
    "    \"\"\"\n",
    "    preprocessedText = re.sub('#[a-zA-Z0-9_]+', '', text )\n",
    "\n",
    "    return preprocessedText\n",
    "\n",
    "def RemoveMentions(text: str) -> str:\n",
    "    \"\"\"Removes mentions from given tweet text.\n",
    "    Args:\n",
    "        text (str): Text to preprocess.\n",
    "    Returns:\n",
    "        preprocessedText (str): Text with no mentions.\n",
    "\n",
    "    \"\"\"\n",
    "    preprocessedText = re.sub('@[a-zA-Z0-9_]+', '', text )\n",
    "\n",
    "    return preprocessedText\n",
    "\n",
    "def RemovePunctuation(text: str) -> str:\n",
    "    \"\"\"Removes non text characters from given tweet text.\n",
    "    Args:\n",
    "        text (str): Text to preprocess.\n",
    "    Returns:\n",
    "        preprocessedText (str): Text with no non tex characters.\n",
    "\n",
    "    \"\"\"\n",
    "    preprocessedText = text.translate(str.maketrans('', '', string.punctuation))\n",
    "\n",
    "    return preprocessedText\n",
    "\n",
    "def Lemmatize(text: str) -> str:\n",
    "    \"\"\"Lemmatizes polish text from given tweet.\n",
    "    Args:\n",
    "        text (str): Text to preprocess.\n",
    "    Returns:\n",
    "        lemmatizedText (str): Lemmatized text.\n",
    "\n",
    "    \"\"\"\n",
    "    wordList = text.split()\n",
    "    lemmatizedWordList = []\n",
    "\n",
    "    for word in wordList:    \n",
    "        _, _, interpretation = morf.analyse(word)[0]\n",
    "        lemWord = interpretation[1]\n",
    "        lemWordStripped = lemWord.split(':', 1)[0].lower()\n",
    "        lemmatizedWordList.append(lemWordStripped)\n",
    "\n",
    "    lemmatizedText = ' '.join(lemmatizedWordList)\n",
    "\n",
    "    return lemmatizedText\n",
    "\n",
    "def RemoveStopWords(text: str) -> str:\n",
    "    \"\"\"Removes stopwords.\n",
    "    Args:\n",
    "        text (str): Text to preprocess.\n",
    "    Returns:\n",
    "        preprocessedText (str): Text with no stopwords.\n",
    "\n",
    "    \"\"\"\n",
    "    wordList = text.split() \n",
    "    preprecessedWordList = []\n",
    "\n",
    "    stopWords = stopwords.words('polish')\n",
    "    stopWords += ['rt']\n",
    "\n",
    "    for word in wordList:\n",
    "        if word not in stopWords:\n",
    "            preprecessedWordList.append(word)\n",
    "\n",
    "    preprocessedText = ' '.join(preprecessedWordList)\n",
    "\n",
    "    return preprocessedText"
   ]
  },
  {
   "cell_type": "code",
   "execution_count": 61,
   "metadata": {},
   "outputs": [],
   "source": [
    "# Loading tweet data\n",
    "\n",
    "data = pd.read_csv('../data/tweets.csv')"
   ]
  },
  {
   "cell_type": "code",
   "execution_count": 62,
   "metadata": {},
   "outputs": [],
   "source": [
    "# Data preprocess\n",
    "data.tweet = data.tweet.apply(lambda x: RemoveHashtags(x))\n",
    "data.tweet = data.tweet.apply(lambda x: RemoveMentions(x))\n",
    "data.tweet = data.tweet.apply(lambda x: RemovePunctuation(x))\n",
    "data.tweet = data.tweet.apply(lambda x: Lemmatize(x))\n",
    "data.tweet = data.tweet.apply(lambda x: RemoveStopWords(x))\n",
    "data.tweet = data.tweet.apply(lambda x: LowerCase(x))"
   ]
  },
  {
   "cell_type": "code",
   "execution_count": 63,
   "metadata": {},
   "outputs": [],
   "source": [
    "# Machine learning imports\n",
    "from sklearn.linear_model import LogisticRegression\n",
    "from sklearn.svm import SVC\n",
    "from sklearn.model_selection import train_test_split, GridSearchCV\n",
    "from sklearn.feature_extraction.text import TfidfVectorizer\n",
    "from sklearn import metrics"
   ]
  },
  {
   "cell_type": "code",
   "execution_count": 64,
   "metadata": {},
   "outputs": [
    {
     "data": {
      "text/plain": [
       "['../app/models/vectorizer.joblib']"
      ]
     },
     "execution_count": 64,
     "metadata": {},
     "output_type": "execute_result"
    }
   ],
   "source": [
    "# Creating vectorizer\n",
    "vectorizer = TfidfVectorizer(ngram_range=(1, 3), min_df=10)\n",
    "features = vectorizer.fit_transform(data.tweet)\n",
    "\n",
    "xTrain, xTest, yTrain, yTest = train_test_split(features, data.label)\n",
    "\n",
    "dump(vectorizer, '../app/models/vectorizer.joblib') "
   ]
  },
  {
   "cell_type": "code",
   "execution_count": 65,
   "metadata": {},
   "outputs": [
    {
     "name": "stdout",
     "output_type": "stream",
     "text": [
      "Best parameters found were {'C': 15000} with F1 score of 0.324\n"
     ]
    },
    {
     "data": {
      "text/plain": [
       "['../app/models/svc.joblib']"
      ]
     },
     "execution_count": 65,
     "metadata": {},
     "output_type": "execute_result"
    }
   ],
   "source": [
    "# Creating SVC model\n",
    "params = {'C': [1000, 3000, 9000, 15000]}\n",
    "svc = GridSearchCV(SVC(kernel='rbf', gamma='auto'), param_grid=params, scoring='f1', cv=3, n_jobs=-1)\n",
    "svc.fit(xTrain, yTrain)\n",
    "\n",
    "print(\"Best parameters found were {} with F1 score of {:.3f}\".format(\n",
    "    svc.best_params_,\n",
    "    svc.best_score_\n",
    "))\n",
    "\n",
    "dump(svc, '../app/models/svc.joblib') "
   ]
  },
  {
   "cell_type": "code",
   "execution_count": 66,
   "metadata": {},
   "outputs": [
    {
     "name": "stdout",
     "output_type": "stream",
     "text": [
      "Model test:\n",
      "\t\tPrec: 0.3657142857142857         \n",
      "\t\t Rec: 0.3047619047619048         \n",
      "\t\t F1: 0.3324675324675325         \n",
      "\t\t Acc: 0.8976503385105535         \n",
      "\t\t ROC_AUC: 0.6282610045321909\n"
     ]
    },
    {
     "data": {
      "image/png": "[encoded data removed]",
      "text/plain": [
       "<Figure size 360x360 with 1 Axes>"
      ]
     },
     "metadata": {
      "needs_background": "light"
     },
     "output_type": "display_data"
    }
   ],
   "source": [
    "# Testing model and create plots\n",
    "print('Model test:')\n",
    "predictions = svc.predict(xTest)\n",
    "print(f'\\t\\tPrec: {metrics.precision_score(yTest, predictions)} \\\n",
    "        \\n\\t\\t Rec: {metrics.recall_score(yTest, predictions)} \\\n",
    "        \\n\\t\\t F1: {metrics.f1_score(yTest, predictions)} \\\n",
    "        \\n\\t\\t Acc: {metrics.accuracy_score(yTest, predictions)} \\\n",
    "        \\n\\t\\t ROC_AUC: {metrics.roc_auc_score(yTest, predictions)}')\n",
    "\n",
    "# ROC curve\n",
    "fpr, tpr, thresholds = metrics.roc_curve(yTest, predictions)\n",
    "roc_auc = metrics.auc(fpr, tpr)\n",
    "plt.figure(figsize=(5, 5))\n",
    "plt.axis('equal')\n",
    "plt.plot(fpr, tpr, lw=2, label=\"AUC = %0.2f\" % roc_auc)\n",
    "plt.plot([0, 1], [0, 1], color=\"gray\", lw=2, linestyle=\"--\")\n",
    "plt.xlim([0.0, 1.0])\n",
    "plt.ylim([0.0, 1.05])\n",
    "plt.xlabel(\"False Positive Rate\")\n",
    "plt.ylabel(\"True Positive Rate\")\n",
    "plt.legend(loc=\"lower right\")\n",
    "plt.show()"
   ]
  }
 ],
 "metadata": {
  "interpreter": {
   "hash": "fd7ab01d5f98e51bcd6052959dbe02751f898030b3c7d143d3a6c92672448939"
  },
  "kernelspec": {
   "display_name": "Python 3.9.5 ('env': venv)",
   "language": "python",
   "name": "python3"
  },
  "language_info": {
   "codemirror_mode": {
    "name": "ipython",
    "version": 3
   },
   "file_extension": ".py",
   "mimetype": "text/x-python",
   "name": "python",
   "nbconvert_exporter": "python",
   "pygments_lexer": "ipython3",
   "version": "3.9.5"
  },
  "orig_nbformat": 4
 },
 "nbformat": 4,
 "nbformat_minor": 2
}
